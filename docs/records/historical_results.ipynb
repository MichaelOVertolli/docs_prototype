{
 "cells": [
  {
   "cell_type": "markdown",
   "metadata": {},
   "source": [
    "# Historical Results\n",
    "\n",
    "## Endogenous Success Prediction Using Classical Methods with Imbalanced Data\n",
    "\n",
    "This evaluation focused on the prediction of venture success endogenously within the CDL venture curriculum flow. We define a venture being 'cut' or 'not-cut' according to the procedure CDL Dataset procedure.\n",
    "\n",
    "These two variables 'cut' and 'not-cut' were used as target variables to measure venture success in this phase of research and experiments conducted.\n",
    "\n",
    "*Data*: For the following experiments, data preprocessed from 'Application Data' were used. There were 384 data points with 21 features, i.e. the data matrix dimension was: 384x21.\n",
    "\n",
    "The experiment highlights the problem of using data as is, with the 'cut' samples (majority) and 'not-cut' samples (minority) having an imbalanced data distribution. For example, predicting the majority class would give high accuracy, but the overall precision would be poor. The small size of training data was also a significant challenge (approximately 0.80\\% of 384 samples).\n",
    "\n",
    "## Endogenous Success Prediction Using Classical Methods with Stratified Data\n",
    "\n",
    "The supervised training part in this experiment uses stratified (i.e. equal-sized mini-batches of the two labels). \n",
    "\n",
    "The entire dataset was dichotomized into 'cut' and 'non-cut' (imbalanced) datasets. The larger ('cut') set was partitioned in randomly shuffled k-folds (default k = 11) with each fold having equal length as the 'non-cut' set(32). Then each training fold was created by concatenating the 'non-cut' set (containing 32 samples) with a unique 'cut' set (of size 32 samples). Upon completion, a total 'k' sets (of size 64 samples) each are available for running experiments.\n",
    "\n",
    "Using balanced dataset improved the precision score, for the classical model classifiers."
   ]
  },
  {
   "cell_type": "code",
   "execution_count": null,
   "metadata": {},
   "outputs": [],
   "source": []
  }
 ],
 "metadata": {
  "kernelspec": {
   "display_name": "Python 3",
   "language": "python",
   "name": "python3"
  },
  "language_info": {
   "codemirror_mode": {
    "name": "ipython",
    "version": 3
   },
   "file_extension": ".py",
   "mimetype": "text/x-python",
   "name": "python",
   "nbconvert_exporter": "python",
   "pygments_lexer": "ipython3",
   "version": "3.6.5"
  }
 },
 "nbformat": 4,
 "nbformat_minor": 2
}
