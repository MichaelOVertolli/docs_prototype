{
 "cells": [
  {
   "cell_type": "markdown",
   "metadata": {},
   "source": [
    "# Data sets\n",
    "\n",
    "## CDL Dataset\n",
    "\n",
    "Over the 7 years of its operation, the CDL has received approximately 3700 applications from seed-stage ventures across 6 different sites. The applications contain on average 30+ questions (applications change by year and stream), with both longer text based responses as well as numerical responses. We have pooled together all applications that were received, and stored the responses to the questions that have been maintained on every application throughout the years into a SQL database. Due to the unstructured nature of the responses, we have created a separate table with 18 categorical or numerical features, extracted from the applications. Their descriptions are summarized in the table below. \n",
    "\n",
    "\n",
    "| Features | Description |\n",
    "|:------ |:------ |\n",
    "Site | Site at which the application was submitted to (Atlantic, Montreal, West, Toronto, Rockies, NYC) |\n",
    "Cohort | Year at which the application was submitted at (2013, 2014, 2015, 2016, 2017, 2018) \n",
    "Product | The framing of the product description in the application (problem driven, solution driven)  \n",
    "Model | Revenue Model (production, fee-for-service, subscription, licensing, no model, other)  \n",
    "Pricing | If there is any pricing calculation provided in the application form? (yes, no)  \n",
    "Competition | If they recognize competition in the application form? (yes, no)  \n",
    "Competition Name | If they provide the competition name in the application form? (yes, no)  \n",
    "Competition Outperformance | If they describe why they outperform competition? (yes, no)  \n",
    "Protection | (patenting, secrecy, both, neither) \n",
    "ML Data | If a machine learning company, do founders already have access to ML Data? (yes, no, DNA) \n",
    "Revenue | Estimated annual revenue in dollars (CAD/US) \n",
    "Hours | Hours spent since the start of the venture \n",
    "Dollars | Dollars spent since the start of the venture \n",
    "Advisors | Advisor(s) experience (director of a university or non-university research lab, has industry experience, both, DNA) \n",
    "Years | Year founders have known each other ($< 1, 1 \\leq 5, 5 \\leq 10, 10$ or more, DNA) \n",
    "Awards | Number of co-founders with international awards \n",
    "CUT | If the venture was cut during the program (yes, no) \n",
    "Capital Raised | Capital Raised since the start of the venture \n",
    "Grant | Grant Received since the start of the venture \n",
    "\n",
    "\n",
    "In addition to the application data previously described, we have access to verbatim notes from the CDL venture sessions (5 per cohort, with the exception of 7 sessions in cohort 1), containing comments on each of the ventures from angel and institutional investors, operators of scaled tech-based businesses, and academic/corporate scientists. All comments are tagged with the name of the speaker, and any instance of any speaker’s name inside of a comment is flagged and linked to their profile, which includes their attachment to or role at CDL, as well as the year they first attended a CDL session. These notes are somewhat incomplete in earlier years, as the people recording these discussions did not take perfect verbatim notes. From 2015 (cohort 4) and onwards, professional transcribers recorded the meetings, significantly enhancing the quality of this dataset. \n",
    "\n",
    "As each meeting passes, a small portion of the ventures are eliminated from the program. A venture is cut when it has failed to qualify for the next round of CDL sessions based on the judgment of Fellows/Associates on the venture accomplishments and activities from the preceding round. We have captured the survival of every venture that was accepted into the CDL as they progress through the meetings. Consequently, a venture is labeled ‘not-cut’ when it successfully passes through all the session rounds of its cohort year and is deemed to have graduated from the CDL curriculum. In addition to tracking a venture's progress through the program, we have created a new series of tables that outline the Fellows/Associates that have extended offers of further involvement outside of the CDL. This engagement consists of further advice on developing business strategies, offering connections with other industry professionals, or directly investing in the venture. Of the roughly 372 ventures that were accepted into the CDL, about 180 graduated. As a sign of major expansion, the current cohort (2018-2019) has accepted 384 companies across all sites and expects to have at least 170 new graduate ventures.\n",
    "\n",
    "Lastly, the CDL has tracked all equity value creation of ventures that have been accepted (whether they graduate or were cut mid-cohort). This consists of every round of funding the venture has raised, including the financing stage, the instrument used (equity, convertible note, safe), as well as both pre and post money evaluations. Tracking each round of financing allows the CDL-AI team to accurately follow a venture's evolution after they have departed from the program."
   ]
  },
  {
   "cell_type": "code",
   "execution_count": null,
   "metadata": {},
   "outputs": [],
   "source": []
  }
 ],
 "metadata": {
  "kernelspec": {
   "display_name": "Python 3",
   "language": "python",
   "name": "python3"
  },
  "language_info": {
   "codemirror_mode": {
    "name": "ipython",
    "version": 3
   },
   "file_extension": ".py",
   "mimetype": "text/x-python",
   "name": "python",
   "nbconvert_exporter": "python",
   "pygments_lexer": "ipython3",
   "version": "3.6.5"
  }
 },
 "nbformat": 4,
 "nbformat_minor": 2
}
