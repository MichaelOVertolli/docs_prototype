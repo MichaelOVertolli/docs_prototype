{
 "cells": [
  {
   "cell_type": "markdown",
   "metadata": {},
   "source": [
    "# Evaluations\n",
    "\n",
    "## Tree Structured Parzen Estimators (TPE)\n",
    "\n",
    "**GridSearch** and **Random Search** <span data-cite=\"Bergstra2012random\">(Bergstra & Bengio, 2012)</span> are atypical methods that has been used in popular ML literature. However, given the problem domain at hand, using sequential model-based optimization (SMBO) techniques offer efficiency improvement over the preceding methods. Thus, we experiment to establish the efficacy of **Tree Structured Parzen Estimator** (TPE) algorithm <span data-cite=\"Bergstra2012random\">(Bergstra, Bardenet, Bengio & Kegl, 2012)</span>. \n",
    "\n",
    "TPE is a SMBO approach that sequentially construct models to approximate the performance of hyperparameters based on historical measurements, and then subsequently choose new hyperparameters to test based on this model.\n",
    "\n",
    "The TPE approach models $P(x|y)$ and $P(y)$ where $x$ represents hyperparameters and $y$ the associated quality score. $P(x|y)$ is modeled by transforming the generative process of hyperparameters, replacing the distributions of the configuration prior with non-parametric densities. "
   ]
  },
  {
   "cell_type": "code",
   "execution_count": null,
   "metadata": {},
   "outputs": [],
   "source": []
  }
 ],
 "metadata": {
  "kernelspec": {
   "display_name": "Python 3",
   "language": "python",
   "name": "python3"
  },
  "language_info": {
   "codemirror_mode": {
    "name": "ipython",
    "version": 3
   },
   "file_extension": ".py",
   "mimetype": "text/x-python",
   "name": "python",
   "nbconvert_exporter": "python",
   "pygments_lexer": "ipython3",
   "version": "3.6.5"
  }
 },
 "nbformat": 4,
 "nbformat_minor": 2
}
