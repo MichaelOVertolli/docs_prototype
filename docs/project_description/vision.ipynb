{
 "cells": [
  {
   "cell_type": "markdown",
   "metadata": {},
   "source": [
    "# Vision\n",
    "\n",
    "Creative Destruction Lab (CDL) is an entrepreneurship program for highly-scalable science-based start-ups. Since its inception in 2012, CDL has expanded from a small program at the University of Toronto with a cohort size of 25, to five other universities across Canada and the United States in 2018 with an overall cohort size of 375.\n",
    "\n",
    "CDL-AI Project (CAP) is an artificial intelligence project started in the September of 2017 with the objective of designing learning algorithms that predict on start-up success. Computer programs developed at CAP train on the extensive and detailed data generated from the evolution of early-stage ventures that participate in the CDL’s 9-month program. The significance of this project is motivated by two primary imperatives, one scientific and the other economic. \n",
    "\n",
    "As an organization originating from and thriving within academia, CDL’s core organizational values comprise of education, curiosity and scientific exploration. Thus, at its most basic level, CAP is driven by the curiosity of the entire organization and its stakeholders to understand how entrepreneurship works. Economists generally agree that the most fundamental questions about entrepreneurship, such as understanding its essential aspects and a universally acceptable definition are left unanswered <span data-cite=\"kerr2014entrepreneurship\">(Kerr, Nanda, & Rhodes-Kropf, 2014)</span>. CAP intends to address some of these questions by investing equal effort in making accurate predictions on success measures of start-ups and conducting basic research in novel AI models that explain the predictions and draw causal links between explanatory variables and important measures of start-up success. In doing so, CAP leverages state-of-the-art research produced in the mainstream machine learning scientific communities and explores less understood but high-potential areas of research such as quantum-inspired learning models.\n",
    "\n",
    "Second, accurate and explainable predictions on the success of scalable start-ups have the potential to disrupt the venture capital industry ($155 billion globally, 2017). Enhanced investment decisions have significant welfare implications as more promising start-ups are supported to contribute to job growth and productivity in the global economy.\n",
    "\n",
    "During research, development and overall execution of this project, CAP follows its parent organization in setting ambitious goals and in delivering outstanding results. The CAP team understands that it is a privilege to be working on this project. We are grateful to the tireless CDL team whose hard work over severals years continues to generate the data that we use today for this rewarding project."
   ]
  },
  {
   "cell_type": "code",
   "execution_count": null,
   "metadata": {},
   "outputs": [],
   "source": []
  }
 ],
 "metadata": {
  "kernelspec": {
   "display_name": "Python 3",
   "language": "python",
   "name": "python3"
  },
  "language_info": {
   "codemirror_mode": {
    "name": "ipython",
    "version": 3
   },
   "file_extension": ".py",
   "mimetype": "text/x-python",
   "name": "python",
   "nbconvert_exporter": "python",
   "pygments_lexer": "ipython3",
   "version": "3.6.5"
  }
 },
 "nbformat": 4,
 "nbformat_minor": 2
}
