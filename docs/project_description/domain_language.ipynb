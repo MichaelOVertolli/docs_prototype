{
 "cells": [
  {
   "cell_type": "markdown",
   "metadata": {},
   "source": [
    "# Domain Language\n",
    "\n",
    "The domain language defines an agreed upon collection of terms and concepts that are representative of the domain of interest. They act as a bridge between the high-level vision of the project and the concrete implementation of that vision in code. The Domain Driven Design text includes additional details <span data-cite=evans2004ddd>(Evans, 2004)</span>.\n",
    "\n",
    "List of domain terms:\n",
    "\n",
    "\n",
    "- <a href='#Entity'>ENTITY</a>\n",
    "- <a href='#Factory'>FACTORY</a>\n",
    "- <a href='#Service'>SERVICE</a>\n",
    "- <a href='#Token'>TOKEN</a>\n",
    "- <a href='#Tokenizer'>TOKENIZER</a>\n",
    "- <a href='#TokenSet'>TOKENSET</a>\n",
    "- <a href='#Value-Object'>VALUE OBJECT</a>\n",
    "\n",
    "\n",
    "## Entity\n",
    "\n",
    "An <a href=\"#Entity\">ENTITY</a> is a mutable data structure that is not defined by its internal data. Instead, it is defined and compared by a reference or identifier key that acts as an index for its current state at a given point in time. For example, the list and dictionary classes are <a href=\"#Entity\">ENTITY</a>s in Python. An <a href=\"#Entity\">ENTITY</a> is defined in distinction to a <a href=\"#Value-Object\">VALUE OBJECT</a>.\n",
    "\n",
    "## Factory\n",
    "\n",
    "A <a href=\"#Factory\">FACTORY</a> is a <a href=\"#Service\">SERVICE</a> that is designed to construct domain objects based on different sets of parameters.\n",
    "\n",
    "## Service\n",
    "\n",
    "A <a href=\"#Service\">SERVICE</a> is a collection of functions that do not belong to any object.\n",
    "\n",
    "## Token\n",
    "\n",
    "A <a href=\"#Token\">TOKEN</a> is a numerical identifier for a word or part-of-speech.\n",
    "\n",
    "## Tokenizer\n",
    "\n",
    "The <a href=\"#Tokenizer\">TOKENIZER</a> is a singleton <a href=\"#Factory\">FACTORY</a> that consumes pre-processed text data in the form of a CSV and outputs a <a href=\"#TokenSet\">TOKENSET</a> of <a href=\"#Token\">TOKEN</a>s. The key function of the <a href=\"#Tokenizer\">TOKENIZER</a> is to handle the management of text attributes (e.g., venture\\_id, session\\_id, speaker\\_id, cohort) for future filtering based on these attributes or segmenting the <a href=\"#Token\">TOKEN</a>s for later model processing.\n",
    "\n",
    "## TokenSet\n",
    "\n",
    "The <a href=\"#TokenSet\">TOKENSET</a> is a <a href=\"#Value-Object\">VALUE OBJECT</a> that acts as the primary interface for pulling data and labels, filtering data based on attributes (e.g., venture\\_id, session\\_id, speaker\\_id, cohort), collapsing across an attribute, and imbalanced sampling. The <a href=\"#TokenSet\">TOKENSET</a> has no internal state. Consequently, any method that would modify the <a href=\"#TokenSet\">TOKENSET</a> returns a new <a href=\"#TokenSet\">TOKENSET</a> instead.\n",
    "\n",
    "## Value Object\n",
    "\n",
    "A <a href=\"#Value-Object\">VALUE OBJECT</a> is an immutable data type that is defined and compared by the internal data that it is made out of. For example, the int and tuple classes are <a href=\"#Value-Object\">VALUE OBJECT</a>s in Python. A <a href=\"#Value-Object\">VALUE OBJECT</a> is defined in distinction to an <a href=\"#Entity\">ENTITY</a>."
   ]
  },
  {
   "cell_type": "code",
   "execution_count": null,
   "metadata": {},
   "outputs": [],
   "source": []
  }
 ],
 "metadata": {
  "kernelspec": {
   "display_name": "Python 3",
   "language": "python",
   "name": "python3"
  },
  "language_info": {
   "codemirror_mode": {
    "name": "ipython",
    "version": 3
   },
   "file_extension": ".py",
   "mimetype": "text/x-python",
   "name": "python",
   "nbconvert_exporter": "python",
   "pygments_lexer": "ipython3",
   "version": "3.6.5"
  }
 },
 "nbformat": 4,
 "nbformat_minor": 2
}
